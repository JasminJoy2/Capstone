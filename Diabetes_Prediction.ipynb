{
 "cells": [
  {
   "cell_type": "code",
   "execution_count": 46,
   "id": "2dfe30cf",
   "metadata": {},
   "outputs": [],
   "source": [
    "import pandas as pd\n",
    "import numpy as np\n",
    "import matplotlib.pyplot as plt\n",
    "import seaborn as sns\n",
    "\n",
    "import warnings\n",
    "warnings.filterwarnings('ignore')"
   ]
  },
  {
   "cell_type": "code",
   "execution_count": 6,
   "id": "0ee8c67f",
   "metadata": {},
   "outputs": [
    {
     "data": {
      "text/html": [
       "<div>\n",
       "<style scoped>\n",
       "    .dataframe tbody tr th:only-of-type {\n",
       "        vertical-align: middle;\n",
       "    }\n",
       "\n",
       "    .dataframe tbody tr th {\n",
       "        vertical-align: top;\n",
       "    }\n",
       "\n",
       "    .dataframe thead th {\n",
       "        text-align: right;\n",
       "    }\n",
       "</style>\n",
       "<table border=\"1\" class=\"dataframe\">\n",
       "  <thead>\n",
       "    <tr style=\"text-align: right;\">\n",
       "      <th></th>\n",
       "      <th>gender</th>\n",
       "      <th>age</th>\n",
       "      <th>hypertension</th>\n",
       "      <th>heart_disease</th>\n",
       "      <th>smoking_history</th>\n",
       "      <th>bmi</th>\n",
       "      <th>HbA1c_level</th>\n",
       "      <th>blood_glucose_level</th>\n",
       "      <th>diabetes</th>\n",
       "    </tr>\n",
       "  </thead>\n",
       "  <tbody>\n",
       "    <tr>\n",
       "      <th>0</th>\n",
       "      <td>Female</td>\n",
       "      <td>80.0</td>\n",
       "      <td>0</td>\n",
       "      <td>1</td>\n",
       "      <td>never</td>\n",
       "      <td>25.19</td>\n",
       "      <td>6.6</td>\n",
       "      <td>140</td>\n",
       "      <td>0</td>\n",
       "    </tr>\n",
       "    <tr>\n",
       "      <th>1</th>\n",
       "      <td>Female</td>\n",
       "      <td>54.0</td>\n",
       "      <td>0</td>\n",
       "      <td>0</td>\n",
       "      <td>No Info</td>\n",
       "      <td>27.32</td>\n",
       "      <td>6.6</td>\n",
       "      <td>80</td>\n",
       "      <td>0</td>\n",
       "    </tr>\n",
       "    <tr>\n",
       "      <th>2</th>\n",
       "      <td>Male</td>\n",
       "      <td>28.0</td>\n",
       "      <td>0</td>\n",
       "      <td>0</td>\n",
       "      <td>never</td>\n",
       "      <td>27.32</td>\n",
       "      <td>5.7</td>\n",
       "      <td>158</td>\n",
       "      <td>0</td>\n",
       "    </tr>\n",
       "    <tr>\n",
       "      <th>3</th>\n",
       "      <td>Female</td>\n",
       "      <td>36.0</td>\n",
       "      <td>0</td>\n",
       "      <td>0</td>\n",
       "      <td>current</td>\n",
       "      <td>23.45</td>\n",
       "      <td>5.0</td>\n",
       "      <td>155</td>\n",
       "      <td>0</td>\n",
       "    </tr>\n",
       "    <tr>\n",
       "      <th>4</th>\n",
       "      <td>Male</td>\n",
       "      <td>76.0</td>\n",
       "      <td>1</td>\n",
       "      <td>1</td>\n",
       "      <td>current</td>\n",
       "      <td>20.14</td>\n",
       "      <td>4.8</td>\n",
       "      <td>155</td>\n",
       "      <td>0</td>\n",
       "    </tr>\n",
       "    <tr>\n",
       "      <th>5</th>\n",
       "      <td>Female</td>\n",
       "      <td>20.0</td>\n",
       "      <td>0</td>\n",
       "      <td>0</td>\n",
       "      <td>never</td>\n",
       "      <td>27.32</td>\n",
       "      <td>6.6</td>\n",
       "      <td>85</td>\n",
       "      <td>0</td>\n",
       "    </tr>\n",
       "    <tr>\n",
       "      <th>6</th>\n",
       "      <td>Female</td>\n",
       "      <td>44.0</td>\n",
       "      <td>0</td>\n",
       "      <td>0</td>\n",
       "      <td>never</td>\n",
       "      <td>19.31</td>\n",
       "      <td>6.5</td>\n",
       "      <td>200</td>\n",
       "      <td>1</td>\n",
       "    </tr>\n",
       "    <tr>\n",
       "      <th>7</th>\n",
       "      <td>Female</td>\n",
       "      <td>79.0</td>\n",
       "      <td>0</td>\n",
       "      <td>0</td>\n",
       "      <td>No Info</td>\n",
       "      <td>23.86</td>\n",
       "      <td>5.7</td>\n",
       "      <td>85</td>\n",
       "      <td>0</td>\n",
       "    </tr>\n",
       "    <tr>\n",
       "      <th>8</th>\n",
       "      <td>Male</td>\n",
       "      <td>42.0</td>\n",
       "      <td>0</td>\n",
       "      <td>0</td>\n",
       "      <td>never</td>\n",
       "      <td>33.64</td>\n",
       "      <td>4.8</td>\n",
       "      <td>145</td>\n",
       "      <td>0</td>\n",
       "    </tr>\n",
       "    <tr>\n",
       "      <th>9</th>\n",
       "      <td>Female</td>\n",
       "      <td>32.0</td>\n",
       "      <td>0</td>\n",
       "      <td>0</td>\n",
       "      <td>never</td>\n",
       "      <td>27.32</td>\n",
       "      <td>5.0</td>\n",
       "      <td>100</td>\n",
       "      <td>0</td>\n",
       "    </tr>\n",
       "  </tbody>\n",
       "</table>\n",
       "</div>"
      ],
      "text/plain": [
       "   gender   age  hypertension  heart_disease smoking_history    bmi  \\\n",
       "0  Female  80.0             0              1           never  25.19   \n",
       "1  Female  54.0             0              0         No Info  27.32   \n",
       "2    Male  28.0             0              0           never  27.32   \n",
       "3  Female  36.0             0              0         current  23.45   \n",
       "4    Male  76.0             1              1         current  20.14   \n",
       "5  Female  20.0             0              0           never  27.32   \n",
       "6  Female  44.0             0              0           never  19.31   \n",
       "7  Female  79.0             0              0         No Info  23.86   \n",
       "8    Male  42.0             0              0           never  33.64   \n",
       "9  Female  32.0             0              0           never  27.32   \n",
       "\n",
       "   HbA1c_level  blood_glucose_level  diabetes  \n",
       "0          6.6                  140         0  \n",
       "1          6.6                   80         0  \n",
       "2          5.7                  158         0  \n",
       "3          5.0                  155         0  \n",
       "4          4.8                  155         0  \n",
       "5          6.6                   85         0  \n",
       "6          6.5                  200         1  \n",
       "7          5.7                   85         0  \n",
       "8          4.8                  145         0  \n",
       "9          5.0                  100         0  "
      ]
     },
     "execution_count": 6,
     "metadata": {},
     "output_type": "execute_result"
    }
   ],
   "source": [
    "# Read the input file.\n",
    "\n",
    "df = pd.read_csv(\"diabetes_prediction_dataset.csv\")\n",
    "df.head(10)"
   ]
  },
  {
   "cell_type": "code",
   "execution_count": 14,
   "id": "ebb96863",
   "metadata": {},
   "outputs": [
    {
     "data": {
      "text/plain": [
       "gender                 0\n",
       "age                    0\n",
       "hypertension           0\n",
       "heart_disease          0\n",
       "smoking_history        0\n",
       "bmi                    0\n",
       "HbA1c_level            0\n",
       "blood_glucose_level    0\n",
       "diabetes               0\n",
       "dtype: int64"
      ]
     },
     "execution_count": 14,
     "metadata": {},
     "output_type": "execute_result"
    }
   ],
   "source": [
    "#Exploratory Data Analysis\n",
    "\n",
    "#1) Missing Data\n",
    "df.isnull().sum()\n"
   ]
  },
  {
   "cell_type": "code",
   "execution_count": 21,
   "id": "dbc6e5cf",
   "metadata": {},
   "outputs": [
    {
     "data": {
      "text/html": [
       "<div>\n",
       "<style scoped>\n",
       "    .dataframe tbody tr th:only-of-type {\n",
       "        vertical-align: middle;\n",
       "    }\n",
       "\n",
       "    .dataframe tbody tr th {\n",
       "        vertical-align: top;\n",
       "    }\n",
       "\n",
       "    .dataframe thead th {\n",
       "        text-align: right;\n",
       "    }\n",
       "</style>\n",
       "<table border=\"1\" class=\"dataframe\">\n",
       "  <thead>\n",
       "    <tr style=\"text-align: right;\">\n",
       "      <th></th>\n",
       "      <th>gender</th>\n",
       "      <th>age</th>\n",
       "      <th>hypertension</th>\n",
       "      <th>heart_disease</th>\n",
       "      <th>smoking_history</th>\n",
       "      <th>bmi</th>\n",
       "      <th>HbA1c_level</th>\n",
       "      <th>blood_glucose_level</th>\n",
       "      <th>diabetes</th>\n",
       "    </tr>\n",
       "  </thead>\n",
       "  <tbody>\n",
       "    <tr>\n",
       "      <th>0</th>\n",
       "      <td>Female</td>\n",
       "      <td>80.0</td>\n",
       "      <td>0</td>\n",
       "      <td>1</td>\n",
       "      <td>never</td>\n",
       "      <td>25.19</td>\n",
       "      <td>6.6</td>\n",
       "      <td>140</td>\n",
       "      <td>0</td>\n",
       "    </tr>\n",
       "    <tr>\n",
       "      <th>1</th>\n",
       "      <td>Female</td>\n",
       "      <td>54.0</td>\n",
       "      <td>0</td>\n",
       "      <td>0</td>\n",
       "      <td>No Info</td>\n",
       "      <td>27.32</td>\n",
       "      <td>6.6</td>\n",
       "      <td>80</td>\n",
       "      <td>0</td>\n",
       "    </tr>\n",
       "    <tr>\n",
       "      <th>2</th>\n",
       "      <td>Male</td>\n",
       "      <td>28.0</td>\n",
       "      <td>0</td>\n",
       "      <td>0</td>\n",
       "      <td>never</td>\n",
       "      <td>27.32</td>\n",
       "      <td>5.7</td>\n",
       "      <td>158</td>\n",
       "      <td>0</td>\n",
       "    </tr>\n",
       "    <tr>\n",
       "      <th>3</th>\n",
       "      <td>Female</td>\n",
       "      <td>36.0</td>\n",
       "      <td>0</td>\n",
       "      <td>0</td>\n",
       "      <td>current</td>\n",
       "      <td>23.45</td>\n",
       "      <td>5.0</td>\n",
       "      <td>155</td>\n",
       "      <td>0</td>\n",
       "    </tr>\n",
       "    <tr>\n",
       "      <th>4</th>\n",
       "      <td>Male</td>\n",
       "      <td>76.0</td>\n",
       "      <td>1</td>\n",
       "      <td>1</td>\n",
       "      <td>current</td>\n",
       "      <td>20.14</td>\n",
       "      <td>4.8</td>\n",
       "      <td>155</td>\n",
       "      <td>0</td>\n",
       "    </tr>\n",
       "  </tbody>\n",
       "</table>\n",
       "</div>"
      ],
      "text/plain": [
       "   gender   age  hypertension  heart_disease smoking_history    bmi  \\\n",
       "0  Female  80.0             0              1           never  25.19   \n",
       "1  Female  54.0             0              0         No Info  27.32   \n",
       "2    Male  28.0             0              0           never  27.32   \n",
       "3  Female  36.0             0              0         current  23.45   \n",
       "4    Male  76.0             1              1         current  20.14   \n",
       "\n",
       "   HbA1c_level  blood_glucose_level  diabetes  \n",
       "0          6.6                  140         0  \n",
       "1          6.6                   80         0  \n",
       "2          5.7                  158         0  \n",
       "3          5.0                  155         0  \n",
       "4          4.8                  155         0  "
      ]
     },
     "execution_count": 21,
     "metadata": {},
     "output_type": "execute_result"
    }
   ],
   "source": [
    "# Check Duplicate\n",
    "\n",
    "df = df.drop_duplicates()\n",
    "df.head()"
   ]
  },
  {
   "cell_type": "code",
   "execution_count": 37,
   "id": "a5d8be32",
   "metadata": {},
   "outputs": [
    {
     "name": "stdout",
     "output_type": "stream",
     "text": [
      "gender: 3\n",
      "age: 102\n",
      "hypertension: 2\n",
      "heart_disease: 2\n",
      "smoking_history: 6\n",
      "bmi: 4247\n",
      "HbA1c_level: 18\n",
      "blood_glucose_level: 18\n",
      "diabetes: 2\n"
     ]
    }
   ],
   "source": [
    "# Uniqueness\n",
    "for column in df.columns:\n",
    "    distinct_value_num = len(df[column].unique())\n",
    "    print(f\"{column}: {distinct_value_num}\")"
   ]
  },
  {
   "cell_type": "code",
   "execution_count": 40,
   "id": "2fe0cc0c",
   "metadata": {},
   "outputs": [
    {
     "data": {
      "text/html": [
       "<style type=\"text/css\">\n",
       "</style>\n",
       "<table id=\"T_817c8\">\n",
       "  <thead>\n",
       "    <tr>\n",
       "      <th class=\"blank level0\" >&nbsp;</th>\n",
       "      <th id=\"T_817c8_level0_col0\" class=\"col_heading level0 col0\" >age</th>\n",
       "      <th id=\"T_817c8_level0_col1\" class=\"col_heading level0 col1\" >hypertension</th>\n",
       "      <th id=\"T_817c8_level0_col2\" class=\"col_heading level0 col2\" >heart_disease</th>\n",
       "      <th id=\"T_817c8_level0_col3\" class=\"col_heading level0 col3\" >bmi</th>\n",
       "      <th id=\"T_817c8_level0_col4\" class=\"col_heading level0 col4\" >HbA1c_level</th>\n",
       "      <th id=\"T_817c8_level0_col5\" class=\"col_heading level0 col5\" >blood_glucose_level</th>\n",
       "      <th id=\"T_817c8_level0_col6\" class=\"col_heading level0 col6\" >diabetes</th>\n",
       "    </tr>\n",
       "  </thead>\n",
       "  <tbody>\n",
       "    <tr>\n",
       "      <th id=\"T_817c8_level0_row0\" class=\"row_heading level0 row0\" >count</th>\n",
       "      <td id=\"T_817c8_row0_col0\" class=\"data row0 col0\" >96146.000</td>\n",
       "      <td id=\"T_817c8_row0_col1\" class=\"data row0 col1\" >96146.000</td>\n",
       "      <td id=\"T_817c8_row0_col2\" class=\"data row0 col2\" >96146.000</td>\n",
       "      <td id=\"T_817c8_row0_col3\" class=\"data row0 col3\" >96146.000</td>\n",
       "      <td id=\"T_817c8_row0_col4\" class=\"data row0 col4\" >96146.000</td>\n",
       "      <td id=\"T_817c8_row0_col5\" class=\"data row0 col5\" >96146.000</td>\n",
       "      <td id=\"T_817c8_row0_col6\" class=\"data row0 col6\" >96146.000</td>\n",
       "    </tr>\n",
       "    <tr>\n",
       "      <th id=\"T_817c8_level0_row1\" class=\"row_heading level0 row1\" >mean</th>\n",
       "      <td id=\"T_817c8_row1_col0\" class=\"data row1 col0\" >41.794</td>\n",
       "      <td id=\"T_817c8_row1_col1\" class=\"data row1 col1\" >0.078</td>\n",
       "      <td id=\"T_817c8_row1_col2\" class=\"data row1 col2\" >0.041</td>\n",
       "      <td id=\"T_817c8_row1_col3\" class=\"data row1 col3\" >27.321</td>\n",
       "      <td id=\"T_817c8_row1_col4\" class=\"data row1 col4\" >5.533</td>\n",
       "      <td id=\"T_817c8_row1_col5\" class=\"data row1 col5\" >138.218</td>\n",
       "      <td id=\"T_817c8_row1_col6\" class=\"data row1 col6\" >0.088</td>\n",
       "    </tr>\n",
       "    <tr>\n",
       "      <th id=\"T_817c8_level0_row2\" class=\"row_heading level0 row2\" >std</th>\n",
       "      <td id=\"T_817c8_row2_col0\" class=\"data row2 col0\" >22.463</td>\n",
       "      <td id=\"T_817c8_row2_col1\" class=\"data row2 col1\" >0.268</td>\n",
       "      <td id=\"T_817c8_row2_col2\" class=\"data row2 col2\" >0.198</td>\n",
       "      <td id=\"T_817c8_row2_col3\" class=\"data row2 col3\" >6.768</td>\n",
       "      <td id=\"T_817c8_row2_col4\" class=\"data row2 col4\" >1.073</td>\n",
       "      <td id=\"T_817c8_row2_col5\" class=\"data row2 col5\" >40.910</td>\n",
       "      <td id=\"T_817c8_row2_col6\" class=\"data row2 col6\" >0.284</td>\n",
       "    </tr>\n",
       "    <tr>\n",
       "      <th id=\"T_817c8_level0_row3\" class=\"row_heading level0 row3\" >min</th>\n",
       "      <td id=\"T_817c8_row3_col0\" class=\"data row3 col0\" >0.080</td>\n",
       "      <td id=\"T_817c8_row3_col1\" class=\"data row3 col1\" >0.000</td>\n",
       "      <td id=\"T_817c8_row3_col2\" class=\"data row3 col2\" >0.000</td>\n",
       "      <td id=\"T_817c8_row3_col3\" class=\"data row3 col3\" >10.010</td>\n",
       "      <td id=\"T_817c8_row3_col4\" class=\"data row3 col4\" >3.500</td>\n",
       "      <td id=\"T_817c8_row3_col5\" class=\"data row3 col5\" >80.000</td>\n",
       "      <td id=\"T_817c8_row3_col6\" class=\"data row3 col6\" >0.000</td>\n",
       "    </tr>\n",
       "    <tr>\n",
       "      <th id=\"T_817c8_level0_row4\" class=\"row_heading level0 row4\" >25%</th>\n",
       "      <td id=\"T_817c8_row4_col0\" class=\"data row4 col0\" >24.000</td>\n",
       "      <td id=\"T_817c8_row4_col1\" class=\"data row4 col1\" >0.000</td>\n",
       "      <td id=\"T_817c8_row4_col2\" class=\"data row4 col2\" >0.000</td>\n",
       "      <td id=\"T_817c8_row4_col3\" class=\"data row4 col3\" >23.400</td>\n",
       "      <td id=\"T_817c8_row4_col4\" class=\"data row4 col4\" >4.800</td>\n",
       "      <td id=\"T_817c8_row4_col5\" class=\"data row4 col5\" >100.000</td>\n",
       "      <td id=\"T_817c8_row4_col6\" class=\"data row4 col6\" >0.000</td>\n",
       "    </tr>\n",
       "    <tr>\n",
       "      <th id=\"T_817c8_level0_row5\" class=\"row_heading level0 row5\" >50%</th>\n",
       "      <td id=\"T_817c8_row5_col0\" class=\"data row5 col0\" >43.000</td>\n",
       "      <td id=\"T_817c8_row5_col1\" class=\"data row5 col1\" >0.000</td>\n",
       "      <td id=\"T_817c8_row5_col2\" class=\"data row5 col2\" >0.000</td>\n",
       "      <td id=\"T_817c8_row5_col3\" class=\"data row5 col3\" >27.320</td>\n",
       "      <td id=\"T_817c8_row5_col4\" class=\"data row5 col4\" >5.800</td>\n",
       "      <td id=\"T_817c8_row5_col5\" class=\"data row5 col5\" >140.000</td>\n",
       "      <td id=\"T_817c8_row5_col6\" class=\"data row5 col6\" >0.000</td>\n",
       "    </tr>\n",
       "    <tr>\n",
       "      <th id=\"T_817c8_level0_row6\" class=\"row_heading level0 row6\" >75%</th>\n",
       "      <td id=\"T_817c8_row6_col0\" class=\"data row6 col0\" >59.000</td>\n",
       "      <td id=\"T_817c8_row6_col1\" class=\"data row6 col1\" >0.000</td>\n",
       "      <td id=\"T_817c8_row6_col2\" class=\"data row6 col2\" >0.000</td>\n",
       "      <td id=\"T_817c8_row6_col3\" class=\"data row6 col3\" >29.860</td>\n",
       "      <td id=\"T_817c8_row6_col4\" class=\"data row6 col4\" >6.200</td>\n",
       "      <td id=\"T_817c8_row6_col5\" class=\"data row6 col5\" >159.000</td>\n",
       "      <td id=\"T_817c8_row6_col6\" class=\"data row6 col6\" >0.000</td>\n",
       "    </tr>\n",
       "    <tr>\n",
       "      <th id=\"T_817c8_level0_row7\" class=\"row_heading level0 row7\" >max</th>\n",
       "      <td id=\"T_817c8_row7_col0\" class=\"data row7 col0\" >80.000</td>\n",
       "      <td id=\"T_817c8_row7_col1\" class=\"data row7 col1\" >1.000</td>\n",
       "      <td id=\"T_817c8_row7_col2\" class=\"data row7 col2\" >1.000</td>\n",
       "      <td id=\"T_817c8_row7_col3\" class=\"data row7 col3\" >95.690</td>\n",
       "      <td id=\"T_817c8_row7_col4\" class=\"data row7 col4\" >9.000</td>\n",
       "      <td id=\"T_817c8_row7_col5\" class=\"data row7 col5\" >300.000</td>\n",
       "      <td id=\"T_817c8_row7_col6\" class=\"data row7 col6\" >1.000</td>\n",
       "    </tr>\n",
       "  </tbody>\n",
       "</table>\n"
      ],
      "text/plain": [
       "<pandas.io.formats.style.Styler at 0x19a1dca74f0>"
      ]
     },
     "execution_count": 40,
     "metadata": {},
     "output_type": "execute_result"
    }
   ],
   "source": [
    "df.describe().style.format(\"{:.2f}\")"
   ]
  },
  {
   "cell_type": "code",
   "execution_count": 44,
   "id": "fb6ec96c",
   "metadata": {},
   "outputs": [
    {
     "data": {
      "image/png": "[encoded data removed]",
      "text/plain": [
       "<Figure size 432x288 with 1 Axes>"
      ]
     },
     "metadata": {
      "needs_background": "light"
     },
     "output_type": "display_data"
    }
   ],
   "source": [
    "# Univariate Analysis\n",
    "# 1) Histogram of age\n",
    "plt.hist(df[\"age\"],bins=30,edgecolor='black')\n",
    "plt.title(\"Age Distribution\")\n",
    "plt.xlabel(\"Age\")\n",
    "plt.ylabel(\"Count\")\n",
    "plt.show()"
   ]
  },
  {
   "cell_type": "code",
   "execution_count": 49,
   "id": "ffd5a847",
   "metadata": {},
   "outputs": [
    {
     "data": {
      "image/png": "[encoded data removed]",
      "text/plain": [
       "<Figure size 432x288 with 1 Axes>"
      ]
     },
     "metadata": {
      "needs_background": "light"
     },
     "output_type": "display_data"
    }
   ],
   "source": [
    "# 2) Barplot for gender\n",
    "sns.countplot(x='gender',data=df)\n",
    "plt.title('Gender Distribution')\n",
    "plt.show()"
   ]
  },
  {
   "cell_type": "code",
   "execution_count": 54,
   "id": "e8c290d9",
   "metadata": {},
   "outputs": [
    {
     "data": {
      "image/png": "[encoded data removed]",
      "text/plain": [
       "<Figure size 432x288 with 1 Axes>"
      ]
     },
     "metadata": {
      "needs_background": "light"
     },
     "output_type": "display_data"
    }
   ],
   "source": [
    "# 3) Distribution plot for BMI\n",
    "sns.distplot(df['bmi'],bins=30)\n",
    "plt.title('BMI Distribution')\n",
    "plt.show()"
   ]
  },
  {
   "cell_type": "code",
   "execution_count": 55,
   "id": "a4f12d76",
   "metadata": {},
   "outputs": [
    {
     "data": {
      "image/png": "[encoded data removed]",
      "text/plain": [
       "<Figure size 432x288 with 1 Axes>"
      ]
     },
     "metadata": {
      "needs_background": "light"
     },
     "output_type": "display_data"
    },
    {
     "data": {
      "image/png": "[encoded data removed]",
      "text/plain": [
       "<Figure size 432x288 with 1 Axes>"
      ]
     },
     "metadata": {
      "needs_background": "light"
     },
     "output_type": "display_data"
    },
    {
     "data": {
      "image/png": "[encoded data removed]",
      "text/plain": [
       "<Figure size 432x288 with 1 Axes>"
      ]
     },
     "metadata": {
      "needs_background": "light"
     },
     "output_type": "display_data"
    }
   ],
   "source": [
    "# 4) CountPlot for binary variable\n",
    "for col in ['hypertension','heart_disease','diabetes']:\n",
    "    sns.countplot(x=col,data=df)\n",
    "    plt.title(f'{col} Distribution')\n",
    "    plt.show()"
   ]
  },
  {
   "cell_type": "code",
   "execution_count": 57,
   "id": "7fe6221e",
   "metadata": {},
   "outputs": [
    {
     "data": {
      "image/png": "[encoded data removed]",
      "text/plain": [
       "<Figure size 432x288 with 1 Axes>"
      ]
     },
     "metadata": {
      "needs_background": "light"
     },
     "output_type": "display_data"
    }
   ],
   "source": [
    "# 5) Countplot for smoking history\n",
    "sns.countplot(x='smoking_history', data=df)\n",
    "plt.title('Smoking History Distribution')\n",
    "plt.show()"
   ]
  },
  {
   "cell_type": "code",
   "execution_count": null,
   "id": "31ff8cb0",
   "metadata": {},
   "outputs": [],
   "source": []
  }
 ],
 "metadata": {
  "kernelspec": {
   "display_name": "Python 3 (ipykernel)",
   "language": "python",
   "name": "python3"
  },
  "language_info": {
   "codemirror_mode": {
    "name": "ipython",
    "version": 3
   },
   "file_extension": ".py",
   "mimetype": "text/x-python",
   "name": "python",
   "nbconvert_exporter": "python",
   "pygments_lexer": "ipython3",
   "version": "3.9.12"
  }
 },
 "nbformat": 4,
 "nbformat_minor": 5
}
